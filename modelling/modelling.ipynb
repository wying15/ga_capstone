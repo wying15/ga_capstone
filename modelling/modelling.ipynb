{
 "cells": [
  {
   "cell_type": "markdown",
   "id": "e6596269-bc94-4c3d-9ff0-13abc094a92c",
   "metadata": {},
   "source": [
    "<h3>Rainbow 365 modelling</h3>\n",
    "To find a suitable model to use for suggesting missing fruits and vegetables colours to achieve the 5-colour diet and to suggest recipes. The chosen model will be used to build a chatbot."
   ]
  },
  {
   "cell_type": "markdown",
   "id": "75350c3a-8b73-490c-ba9b-c6223f5421c0",
   "metadata": {},
   "source": [
    "## Contents\n",
    "1. [Install Packages](#Install-Packages)\n",
    "2. [Import Libraries and set OpenAI API Key](#Import-Libraries-and-set-OpenAI-API-Key)\n",
    "3. [Set Filepath and Load Data](#Set-Filepath-and-Load-Data)\n",
    "4. [Build Index](#Build-Index)\n",
    "5. [Build Index with Service Context](#Build-Index-with-Service-Context)\n",
    "6. [Evaluation with GPT-3.5-Turbo](#Evaluation-with-GPT-3.5-Turbo)\n",
    "7. [Evaluation with GPT-4](#Evaluation-with-GPT-4)\n",
    "8. [Evaluation with GPT-4-1106](#Evaluation-with-GPT-4-1106)\n",
    "9. [Results](#Results)\n",
    "10. [Models evaluation - Chosen model is gpt-4-1106.](#Models-evaluation---Chosen-model-is-gpt-4-1106.)"
   ]
  },
  {
   "cell_type": "markdown",
   "id": "c606b7a0-24d9-4085-a637-0cf0c05b7993",
   "metadata": {
    "id": "c606b7a0-24d9-4085-a637-0cf0c05b7993"
   },
   "source": [
    "<h3>Install Packages </h3>"
   ]
  },
  {
   "cell_type": "code",
   "execution_count": 177,
   "id": "1a42ce4c-3deb-45ea-8a7d-0208c48b4b42",
   "metadata": {
    "id": "1a42ce4c-3deb-45ea-8a7d-0208c48b4b42",
    "outputId": "d417bed8-08d2-4975-d72a-c988f0118b44"
   },
   "outputs": [],
   "source": [
    "#install relevant packages needed for openai LLM modelling\n",
    "# !pip install llama_index==0.8.64\n",
    "# !pip install openai==1.10.0\n",
    "# !pip install spacy\n",
    "# %pip install llama-index==0.8.64\n",
    "# !pip install pypdf\n",
    "# !pip install sentence-transformers\n",
    "# !pip install ragas\n",
    "# %pip install ipywidgets==7.7.5"
   ]
  },
  {
   "cell_type": "markdown",
   "id": "dfbdc0e4-e0d7-4a68-9485-d82e4d149873",
   "metadata": {
    "id": "dfbdc0e4-e0d7-4a68-9485-d82e4d149873"
   },
   "source": [
    "<h3> Import Libraries and set OpenAI API Key</h3>"
   ]
  },
  {
   "cell_type": "code",
   "execution_count": 233,
   "id": "1e8f30c4-a2fe-47ce-abc9-90f7163ecedf",
   "metadata": {
    "id": "1e8f30c4-a2fe-47ce-abc9-90f7163ecedf"
   },
   "outputs": [],
   "source": [
    "from llama_index import Document, GPTVectorStoreIndex, ServiceContext, download_loader, VectorStoreIndex\n",
    "from llama_index.readers import BeautifulSoupWebReader, SimpleDirectoryReader\n",
    "from llama_index.llms import OpenAI\n",
    "from llama_index.evaluation import DatasetGenerator\n",
    "from llama_index.response.notebook_utils import display_response\n",
    "import openai\n",
    "from pathlib import Path\n",
    "import os\n",
    "from datasets import Dataset\n",
    "from ragas import evaluate\n",
    "from ragas.metrics import answer_relevancy, faithfulness\n",
    "import pandas as pd\n",
    "#input the OpenAI API key here between the double quotation marks\n",
    "os.environ['OPENAI_API_KEY'] = \"\"\n",
    "openai.api_key = os.getenv(\"OPENAI_API_KEY\")"
   ]
  },
  {
   "cell_type": "markdown",
   "id": "3bd3fc91-e10b-4821-adeb-6a13c8f9949d",
   "metadata": {
    "id": "3bd3fc91-e10b-4821-adeb-6a13c8f9949d"
   },
   "source": [
    "<h3>Set Filepath and Load Data</h3>"
   ]
  },
  {
   "cell_type": "code",
   "execution_count": 236,
   "id": "af3c4754-c18e-4d13-9a20-f61e3c7990dc",
   "metadata": {
    "id": "af3c4754-c18e-4d13-9a20-f61e3c7990dc"
   },
   "outputs": [],
   "source": [
    "#finding the folder where the data file is located at relative to where we are\n",
    "current_dir = os.getcwd()\n",
    "data_dir = os.path.join(current_dir, \"data\")"
   ]
  },
  {
   "cell_type": "code",
   "execution_count": 238,
   "id": "8f213d05-3e78-408a-917c-9c097aa6de91",
   "metadata": {
    "id": "8f213d05-3e78-408a-917c-9c097aa6de91",
    "scrolled": true
   },
   "outputs": [],
   "source": [
    "#load dataset and vectorise for faster retrieval of information for model training\n",
    "PagedCSVReader = download_loader(\"PagedCSVReader\")\n",
    "loader = PagedCSVReader(encoding=\"utf-8\")\n",
    "docs = loader.load_data(file=Path(data_dir+'/data.csv'))"
   ]
  },
  {
   "cell_type": "markdown",
   "id": "275639f7-7c86-4985-8407-0c374081f952",
   "metadata": {
    "id": "275639f7-7c86-4985-8407-0c374081f952"
   },
   "source": [
    "<h3>Build Index</h3>"
   ]
  },
  {
   "cell_type": "code",
   "execution_count": 241,
   "id": "63cac914-c3a9-4f0a-bd39-52e8ab6f8e57",
   "metadata": {
    "id": "63cac914-c3a9-4f0a-bd39-52e8ab6f8e57",
    "outputId": "6670e219-d3bb-4140-e378-acfc918eb6cc"
   },
   "outputs": [
    {
     "data": {
      "text/plain": [
       "[Document(id_='22fb60fc-62d5-4a75-a5fe-8d3c5aca71a7', embedding=None, metadata={}, excluded_embed_metadata_keys=[], excluded_llm_metadata_keys=[], relationships={}, hash='2182c5a08d66429d05647c81f8255c9969ade0bc120058f7805412bf1abff3ff', text=\"Question: I have an apple, an avocado, and a banana in my cart. Does this meet the 5-color diet, and what recipe can I make?\\nAnswer: You're missing blue/purple. Try adding blueberries for a balanced diet. You can make a fruit salad with apple, avocado, banana, and blueberries.\", start_char_idx=None, end_char_idx=None, text_template='{metadata_str}\\n\\n{content}', metadata_template='{key}: {value}', metadata_seperator='\\n'),\n",
       " Document(id_='f49d598c-264f-443b-bc39-7e73d2d92953', embedding=None, metadata={}, excluded_embed_metadata_keys=[], excluded_llm_metadata_keys=[], relationships={}, hash='6e1f274d9090f14b5375ac24e570d3f7c246cc7e7d6adbc74549691aafd0745b', text=\"Question: I have pomegranates, oranges, and green apples in my cart. Does this meet the 5-color diet?\\nAnswer: You have red, orange, and green, but you're missing white/tan and blue/purple. Add bananas and blueberries. Try a mixed fruit smoothie.\", start_char_idx=None, end_char_idx=None, text_template='{metadata_str}\\n\\n{content}', metadata_template='{key}: {value}', metadata_seperator='\\n'),\n",
       " Document(id_='4aa99449-e60e-4922-90d3-e09d23ec1a40', embedding=None, metadata={}, excluded_embed_metadata_keys=[], excluded_llm_metadata_keys=[], relationships={}, hash='2972b703a023642c948bbd88b5ce805fe2bedc47b85a18b404f99114f33b1277', text=\"Question: I bought cherries, white nectarines, and broccoli. Does this cover all 5 colors for the diet?\\nAnswer: You're missing blue/purple. Add blueberries to your mix. A colorful fruit salad with cherries, nectarines, broccoli, and blueberries would work.\", start_char_idx=None, end_char_idx=None, text_template='{metadata_str}\\n\\n{content}', metadata_template='{key}: {value}', metadata_seperator='\\n'),\n",
       " Document(id_='d5f0ad0b-7569-4394-b698-cc749141f81a', embedding=None, metadata={}, excluded_embed_metadata_keys=[], excluded_llm_metadata_keys=[], relationships={}, hash='c6b35e14f95180ce9156a384d45794267fd089fe6db471493a2b04158ff21ff5', text='Question: I have cranberries, corn, and green grapes in my cart. Does this meet the 5-color diet?\\nAnswer: You need white/tan and blue/purple. Add bananas and blackberries. Try a mixed fruit bowl with your cranberries, corn, and grapes.', start_char_idx=None, end_char_idx=None, text_template='{metadata_str}\\n\\n{content}', metadata_template='{key}: {value}', metadata_seperator='\\n'),\n",
       " Document(id_='176308e2-c470-4b3b-9c04-4160364242a4', embedding=None, metadata={}, excluded_embed_metadata_keys=[], excluded_llm_metadata_keys=[], relationships={}, hash='66f5e6cdd1dd677a81c70d6d44da7a64a396a6b7e587e49b9d0fab3b9878e7ba', text=\"Question: I bought red grapes, grapefruit, and brown pears. What’s missing for the 5-color diet and what recipe can I make?\\nAnswer: You're missing green and blue/purple. Add avocados and blackberries. Make a fruit salad with red grapes, grapefruit, pears, and blackberries.\", start_char_idx=None, end_char_idx=None, text_template='{metadata_str}\\n\\n{content}', metadata_template='{key}: {value}', metadata_seperator='\\n'),\n",
       " Document(id_='6c23a936-9bcf-4965-a9cf-38668e8abe91', embedding=None, metadata={}, excluded_embed_metadata_keys=[], excluded_llm_metadata_keys=[], relationships={}, hash='b811d5ea0e600030482cb23f58f695b323c0655b1495c4a595e6905119d8894f', text=\"Question: I have red apples, apricots, and bananas. Am I missing any colors for the 5-color diet?\\nAnswer: You have red, orange, and white/tan but you're missing green and blue/purple. Add kiwifruit and blackberries. Make a fruit bowl.\", start_char_idx=None, end_char_idx=None, text_template='{metadata_str}\\n\\n{content}', metadata_template='{key}: {value}', metadata_seperator='\\n'),\n",
       " Document(id_='e009fcac-7080-404e-b076-a89cfa538db2', embedding=None, metadata={}, excluded_embed_metadata_keys=[], excluded_llm_metadata_keys=[], relationships={}, hash='e14e271f72b94464900db96b86b6e4020f424d4d5649224b1294cfa64e2e65ca', text=\"Question: I bought pomegranates, green apples, and blackberries. Does this meet the 5-color diet?\\nAnswer: You have red, green, and blue/purple, but you're missing orange and white/tan. Add apricots and bananas. Try a colorful fruit salad.\", start_char_idx=None, end_char_idx=None, text_template='{metadata_str}\\n\\n{content}', metadata_template='{key}: {value}', metadata_seperator='\\n'),\n",
       " Document(id_='eca5748a-3096-4c8d-86ae-fc3a5537cd93', embedding=None, metadata={}, excluded_embed_metadata_keys=[], excluded_llm_metadata_keys=[], relationships={}, hash='b6c53d902d585c2daab688ca46661fae72a53231ef5647e6d68b31b6ee960a6b', text=\"Question: I have cherries, peaches, and kiwifruit. What color is missing for the 5-color diet?\\nAnswer: You're missing white/tan and blue/purple. Add bananas and blueberries. Make a fruit smoothie with cherries, peaches, kiwifruit, and bananas.\", start_char_idx=None, end_char_idx=None, text_template='{metadata_str}\\n\\n{content}', metadata_template='{key}: {value}', metadata_seperator='\\n'),\n",
       " Document(id_='bdbb9c41-f0f3-4234-a750-420e7ccf51b7', embedding=None, metadata={}, excluded_embed_metadata_keys=[], excluded_llm_metadata_keys=[], relationships={}, hash='fb0fe9c436dc4ade03e2404723ae4544876aad9edf3266a15621361d35d38837', text='Question: I bought cranberries, corn, and blueberries. Does this meet the 5-color diet?\\nAnswer: You need white/tan and green. Add bananas and green apples. Try a fruit salad with cranberries, corn, blueberries, and apples.', start_char_idx=None, end_char_idx=None, text_template='{metadata_str}\\n\\n{content}', metadata_template='{key}: {value}', metadata_seperator='\\n'),\n",
       " Document(id_='6d517d32-1380-4e0f-8563-526259b29ab3', embedding=None, metadata={}, excluded_embed_metadata_keys=[], excluded_llm_metadata_keys=[], relationships={}, hash='ec7c15709ccc5a66a18b7b5617a500dc9b6c14ce51006a47a3beaa279d35bf33', text=\"Question: I have red grapes, grapefruit, and dried plums in my cart. Does this cover the 5-color diet?\\nAnswer: You're missing green and white/tan. Add avocados and bananas. Make a fruit salad with red grapes, grapefruit, and dried plums.\", start_char_idx=None, end_char_idx=None, text_template='{metadata_str}\\n\\n{content}', metadata_template='{key}: {value}', metadata_seperator='\\n'),\n",
       " Document(id_='1a6deff5-8c34-4660-a1fb-a8dc140e0281', embedding=None, metadata={}, excluded_embed_metadata_keys=[], excluded_llm_metadata_keys=[], relationships={}, hash='4b2d0ae4c163e56400b90ed481207d5cbb4e11ae6d775998fb5beba5d8fe8d7b', text=\"Question: I bought apricots, bananas, and green apples. Am I missing any colors?\\nAnswer: You have red, orange, and white/tan, but you're missing green and blue/purple. Add green grapes and blueberries. Make a fruit bowl.\", start_char_idx=None, end_char_idx=None, text_template='{metadata_str}\\n\\n{content}', metadata_template='{key}: {value}', metadata_seperator='\\n'),\n",
       " Document(id_='f48eb433-f112-4e0b-955d-3307589b7872', embedding=None, metadata={}, excluded_embed_metadata_keys=[], excluded_llm_metadata_keys=[], relationships={}, hash='504702e539a67f6758511b885c86c8fea1f6540fc38721b2c1e230f9a8a2f54b', text=\"Question: I have pomegranates, white nectarines, and honeydew. What’s missing for the 5-color diet?\\nAnswer: You're missing blue/purple and green. Add blueberries and avocados. Make a smoothie with pomegranates, nectarines, and honeydew.\", start_char_idx=None, end_char_idx=None, text_template='{metadata_str}\\n\\n{content}', metadata_template='{key}: {value}', metadata_seperator='\\n'),\n",
       " Document(id_='016c7cc1-d2c5-453a-a7b3-9f18e35c31a0', embedding=None, metadata={}, excluded_embed_metadata_keys=[], excluded_llm_metadata_keys=[], relationships={}, hash='7bcf9f0c48625fe43d21ece5851a85d34403f5f3efb0b0c357e10c197daaf948', text=\"Question: I bought cherries, green apples, and blueberries. Does this meet the 5-color diet?\\nAnswer: You have red, green, and blue/purple, but you're missing orange and white/tan. Add apricots and bananas. Make a fruit salad.\", start_char_idx=None, end_char_idx=None, text_template='{metadata_str}\\n\\n{content}', metadata_template='{key}: {value}', metadata_seperator='\\n'),\n",
       " Document(id_='8a19d7bb-c714-4a5e-b058-14e50c3a67b7', embedding=None, metadata={}, excluded_embed_metadata_keys=[], excluded_llm_metadata_keys=[], relationships={}, hash='d3de7ed295be99bc146e6dfebb660d59cdfee362c7a7297e9b77f1e01cdfab76', text=\"Question: I have cranberries, peaches, and kiwifruit in my cart. What color is missing for the 5-color diet?\\nAnswer: You're missing blue/purple. Add blueberries. Make a colorful fruit salad with cranberries, peaches, and kiwifruit.\", start_char_idx=None, end_char_idx=None, text_template='{metadata_str}\\n\\n{content}', metadata_template='{key}: {value}', metadata_seperator='\\n'),\n",
       " Document(id_='7ce6109c-2a7b-4ec7-8fd1-d497346b3e9f', embedding=None, metadata={}, excluded_embed_metadata_keys=[], excluded_llm_metadata_keys=[], relationships={}, hash='d3e4e4857cb71f3b81a0d41230b627e168942242e892ede49f06800f3286f7f6', text=\"Question: I bought red apples, bananas, and green grapes. Am I missing any colors?\\nAnswer: You have red, white/tan, and green, but you're missing blue/purple and orange. Add blueberries and apricots. Make a fruit salad.\", start_char_idx=None, end_char_idx=None, text_template='{metadata_str}\\n\\n{content}', metadata_template='{key}: {value}', metadata_seperator='\\n'),\n",
       " Document(id_='c07a4433-3fd4-4dcd-baff-82a00202280c', embedding=None, metadata={}, excluded_embed_metadata_keys=[], excluded_llm_metadata_keys=[], relationships={}, hash='0518bc673db429c9754769641f85ca779f658d2a1373aa35fa2bbfff1d05d94a', text=\"Question: I have apricots, white peaches, and blackberries. Does this cover the 5-color diet?\\nAnswer: You have orange, white/tan, and blue/purple but you're missing red and green. Add red apples and green grapes. Try a mixed fruit bowl.\", start_char_idx=None, end_char_idx=None, text_template='{metadata_str}\\n\\n{content}', metadata_template='{key}: {value}', metadata_seperator='\\n'),\n",
       " Document(id_='b2d79b6c-e692-4d4f-9483-a7dd77def4d0', embedding=None, metadata={}, excluded_embed_metadata_keys=[], excluded_llm_metadata_keys=[], relationships={}, hash='eeb44fc7d8fd2baa247ae206192567114ffe74b6c898ee0740edac629a727c14', text=\"Question: I bought pomegranates, corn, and green apples. Am I missing any colors?\\nAnswer: You have red, orange, and green, but you're missing white/tan and blue/purple. Add bananas and blueberries. Make a fruit salad.\", start_char_idx=None, end_char_idx=None, text_template='{metadata_str}\\n\\n{content}', metadata_template='{key}: {value}', metadata_seperator='\\n'),\n",
       " Document(id_='238d758e-90cd-460b-abf2-286b6f3f4e19', embedding=None, metadata={}, excluded_embed_metadata_keys=[], excluded_llm_metadata_keys=[], relationships={}, hash='069faf1deb4207900942980c68f276a034cdf7ca916a2e32c4a57d31cc4cc051', text=\"Question: I have cherries, grapefruit, and blueberries. What color is missing for the 5-color diet?\\nAnswer: You're missing white/tan. Add bananas. Make a fruit bowl with cherries, grapefruit, and blueberries.\", start_char_idx=None, end_char_idx=None, text_template='{metadata_str}\\n\\n{content}', metadata_template='{key}: {value}', metadata_seperator='\\n'),\n",
       " Document(id_='d0524ed3-5a75-46f5-8a6a-9f707f334445', embedding=None, metadata={}, excluded_embed_metadata_keys=[], excluded_llm_metadata_keys=[], relationships={}, hash='78a1ad5fbfde8a0501675549e40f260ae62006b9ec252f76350843cf97ecb0c6', text='Question: I bought cranberries, bananas, and honeydew. Does this meet the 5-color diet?\\nAnswer: You need orange and blue/purple. Add peaches and blueberries. Try a colorful fruit salad with cranberries, bananas, and honeydew.', start_char_idx=None, end_char_idx=None, text_template='{metadata_str}\\n\\n{content}', metadata_template='{key}: {value}', metadata_seperator='\\n'),\n",
       " Document(id_='42c179e8-5b22-4637-82bb-288351f2822e', embedding=None, metadata={}, excluded_embed_metadata_keys=[], excluded_llm_metadata_keys=[], relationships={}, hash='5b91f294e4a2bdf94784f7087a007b716810cb8ec7946566faa92d83a82b5fb4', text=\"Question: I have red grapes, peaches, and blueberries in my cart. Am I missing any colors for the 5-color diet?\\nAnswer: You're missing white/tan and green. Add bananas and avocados. Make a smoothie with red grapes, peaches, and blueberries.\", start_char_idx=None, end_char_idx=None, text_template='{metadata_str}\\n\\n{content}', metadata_template='{key}: {value}', metadata_seperator='\\n'),\n",
       " Document(id_='23f86b4b-a6aa-4f5f-9a9b-1e695f44079c', embedding=None, metadata={}, excluded_embed_metadata_keys=[], excluded_llm_metadata_keys=[], relationships={}, hash='959300689d04582dd9a1d2361eb5d6c282994633a40e602450c9d44a7b92bedb', text=\"Question: I bought apricots, brown pears, and green grapes. Does this meet the 5-color diet?\\nAnswer: You're missing red and blue/purple. Add red apples and blueberries. Try a fruit bowl with apricots, pears, and grapes.\", start_char_idx=None, end_char_idx=None, text_template='{metadata_str}\\n\\n{content}', metadata_template='{key}: {value}', metadata_seperator='\\n'),\n",
       " Document(id_='870c50e8-ac3b-4b14-9267-ac87359304fb', embedding=None, metadata={}, excluded_embed_metadata_keys=[], excluded_llm_metadata_keys=[], relationships={}, hash='8a3a7cc7e65fab69d2dda186e0fa3a1b5addfc5032b433d4d903b2e2fec4af17', text=\"Question: I have pomegranates, oranges, and green apples. What’s missing for the 5-color diet?\\nAnswer: You're missing white/tan and blue/purple. Add bananas and blueberries. Try a smoothie with pomegranates, oranges, and green apples.\", start_char_idx=None, end_char_idx=None, text_template='{metadata_str}\\n\\n{content}', metadata_template='{key}: {value}', metadata_seperator='\\n'),\n",
       " Document(id_='3e2bdc66-690a-47ae-961a-46016803b1d3', embedding=None, metadata={}, excluded_embed_metadata_keys=[], excluded_llm_metadata_keys=[], relationships={}, hash='29ac9155083d3767a63872a0aa0dce7fc88c5812c8f8884b500807ad694ba027', text=\"Question: I bought cherries, bananas, and honeydew. Does this meet the 5-color diet?\\nAnswer: You're missing red and blue/purple. Add red apples and blackberries. Make a fruit bowl with cherries, bananas, and honeydew.\", start_char_idx=None, end_char_idx=None, text_template='{metadata_str}\\n\\n{content}', metadata_template='{key}: {value}', metadata_seperator='\\n'),\n",
       " Document(id_='606fde63-c2e2-4522-993b-04fd01f8f962', embedding=None, metadata={}, excluded_embed_metadata_keys=[], excluded_llm_metadata_keys=[], relationships={}, hash='da7e0c8a3adcc67e63e5af129cdf839b2d7129000406ce057a1d1ea4301df808', text=\"Question: I have cranberries, dried plums, and green apples. Am I missing any colors?\\nAnswer: You have red, white/tan, and green, but you're missing orange and blue/purple. Add apricots and blueberries. Make a fruit salad.\", start_char_idx=None, end_char_idx=None, text_template='{metadata_str}\\n\\n{content}', metadata_template='{key}: {value}', metadata_seperator='\\n'),\n",
       " Document(id_='991f023d-480a-46a3-b167-10cbd4942220', embedding=None, metadata={}, excluded_embed_metadata_keys=[], excluded_llm_metadata_keys=[], relationships={}, hash='92c72972a05a7cf2b8203badf9503fd37b0455b181c788b6f39842babfee10f2', text=\"Question: I bought red grapes, apricots, and blueberries. Does this cover the 5-color diet?\\nAnswer: You have red, orange, and blue/purple, but you're missing white/tan and green. Add bananas and green grapes for a fruit bowl.\", start_char_idx=None, end_char_idx=None, text_template='{metadata_str}\\n\\n{content}', metadata_template='{key}: {value}', metadata_seperator='\\n')]"
      ]
     },
     "execution_count": 241,
     "metadata": {},
     "output_type": "execute_result"
    }
   ],
   "source": [
    "#display the vectorised data\n",
    "docs"
   ]
  },
  {
   "cell_type": "markdown",
   "id": "f2aaa36a-c1c3-423d-8287-146316656e75",
   "metadata": {
    "id": "f2aaa36a-c1c3-423d-8287-146316656e75"
   },
   "source": [
    "<h3>Build Index with Service Context</h3>\n",
    "With all the data loaded, we can construct the index for the chatbot. There are 4 types of indexing: Summary index, VectorStore Index, Tree Index and Keyword Table Index. Here we are using VectorStore Index, which is also one of the most common types of indexing."
   ]
  },
  {
   "cell_type": "code",
   "execution_count": 244,
   "id": "428f140e-b0c0-4efc-baf3-9388fc17c179",
   "metadata": {
    "id": "428f140e-b0c0-4efc-baf3-9388fc17c179"
   },
   "outputs": [],
   "source": [
    "#use gpt-4 model for indexing documents and store in index.vecstore\n",
    "service_context = ServiceContext.from_defaults(\n",
    "    llm=OpenAI(model=\"gpt-4\", temperature=0)\n",
    ")\n",
    "index = GPTVectorStoreIndex.from_documents(documents=docs, service_context=service_context)\n",
    "index.storage_context.persist(persist_dir=\"\")"
   ]
  },
  {
   "cell_type": "markdown",
   "id": "b9deed5e-5aef-406e-aa40-00ea1ccd2f7f",
   "metadata": {
    "id": "b9deed5e-5aef-406e-aa40-00ea1ccd2f7f"
   },
   "source": [
    "<h3> Evaluation with GPT-3.5-Turbo </h3>\n",
    "<ul><li>evaluation questions were created in relation to the shopping cart context listed below</li>\n",
    "\n",
    "\n",
    "<li>Prompt: give me a list of questions that are similar to the following question and make use of the items in the attached file: i have an apple, a broccoli, a banana in my cart. tell me if this meets the 5-colour diet and if not what is missing in the 5 colour diet and what suggested recipe that can incorporate the items.</li></ul>"
   ]
  },
  {
   "cell_type": "code",
   "execution_count": 246,
   "id": "55f3a97d-51db-4c95-a0d7-baa9ba431736",
   "metadata": {
    "id": "55f3a97d-51db-4c95-a0d7-baa9ba431736"
   },
   "outputs": [],
   "source": [
    "#retrieving the evaluation questions\n",
    "questions = []\n",
    "with open(\"data/modified_eval_questions.txt\", \"r\") as f:\n",
    "    for line in f:\n",
    "        questions.append(line.strip())"
   ]
  },
  {
   "cell_type": "code",
   "execution_count": 248,
   "id": "ae9f6363-8c4e-43f2-9a40-ab8022ee86ae",
   "metadata": {
    "id": "ae9f6363-8c4e-43f2-9a40-ab8022ee86ae"
   },
   "outputs": [],
   "source": [
    "#evaluating the gpt-3.5-turbo model performance based on the evaluation questions\n",
    "gpt_context = ServiceContext.from_defaults(\n",
    "    llm=OpenAI(model=\"gpt-3.5-turbo\", temperature=0), context_window=2048\n",
    ")\n",
    "index = VectorStoreIndex.from_documents(docs, service_context=gpt_context)\n",
    "query_engine = index.as_query_engine(similarity_top_k=2)"
   ]
  },
  {
   "cell_type": "code",
   "execution_count": 249,
   "id": "fae3b74c-434e-4b6b-b4d0-4e6a9140c4fa",
   "metadata": {
    "id": "fae3b74c-434e-4b6b-b4d0-4e6a9140c4fa"
   },
   "outputs": [],
   "source": [
    "#generating and storing the answers to the evaluation questions using the gpt-3.5-turbo model.\n",
    "contexts = []\n",
    "answers = []\n",
    "\n",
    "for question in questions:\n",
    "    response = query_engine.query(question)\n",
    "    contexts.append([x.node.get_content() for x in response.source_nodes])\n",
    "    answers.append(str(response))"
   ]
  },
  {
   "cell_type": "code",
   "execution_count": 251,
   "id": "cf84982c-f730-421f-b66a-8b13c13459a6",
   "metadata": {
    "colab": {
     "referenced_widgets": [
      "1555f9d5b4ce49beb34d08474e584eaf"
     ]
    },
    "id": "cf84982c-f730-421f-b66a-8b13c13459a6",
    "outputId": "a45aa602-8b75-4ac5-de30-e69137bc96d1"
   },
   "outputs": [
    {
     "data": {
      "application/vnd.jupyter.widget-view+json": {
       "model_id": "43b52bd4a9bd49319f1cc188c47ec3b5",
       "version_major": 2,
       "version_minor": 0
      },
      "text/plain": [
       "Evaluating:   0%|          | 0/20 [00:00<?, ?it/s]"
      ]
     },
     "metadata": {},
     "output_type": "display_data"
    },
    {
     "name": "stdout",
     "output_type": "stream",
     "text": [
      "{'answer_relevancy': 0.9026, 'faithfulness': 0.3433}\n"
     ]
    }
   ],
   "source": [
    "#calculate the relevancy and faithfulness scores based on the answers generated based on the gpt-3.5-turbo model questions\n",
    "ds = Dataset.from_dict(\n",
    "    {\n",
    "        \"question\": questions,\n",
    "        \"answer\": answers,\n",
    "        \"contexts\": contexts,\n",
    "    }\n",
    ")\n",
    "\n",
    "\n",
    "result = evaluate(ds,[answer_relevancy, faithfulness])\n",
    "print(result)"
   ]
  },
  {
   "cell_type": "code",
   "execution_count": 252,
   "id": "8440e64d-5f6e-4515-9a00-04667ec42f5e",
   "metadata": {},
   "outputs": [
    {
     "name": "stdout",
     "output_type": "stream",
     "text": [
      "You should add bananas to achieve the 5-color diet. To try a recipe, consider making a mixed fruit smoothie with pomegranates, oranges, blueberries, and bananas.\n"
     ]
    }
   ],
   "source": [
    "#printing out the answer by gpt-3.5-turbo based on question 2\n",
    "query_engine = index.as_query_engine(service_context=gpt_context)\n",
    "response_35_turbo = query_engine.query(questions[2])\n",
    "\n",
    "print(response_35_turbo)"
   ]
  },
  {
   "cell_type": "markdown",
   "id": "363a3d0b-33c4-4af3-a35b-7b95247cc78c",
   "metadata": {
    "id": "363a3d0b-33c4-4af3-a35b-7b95247cc78c"
   },
   "source": [
    "<h3>Evaluation with GPT-4</h3>\n",
    "<ul><li>evaluation questions were created in relation to the shopping cart context listed below</li>\n",
    "\n",
    "\n",
    "<li>Prompt: give me a list of questions that are similar to the following question and make use of the items in the attached file: i have an apple, a broccoli, a banana in my cart. tell me if this meets the 5-colour diet and if not what is missing in the 5 colour diet and what suggested recipe that can incorporate the items.</li></ul>"
   ]
  },
  {
   "cell_type": "code",
   "execution_count": 254,
   "id": "5dd943f6-ceb8-429f-af05-778baf7aaf06",
   "metadata": {
    "id": "5dd943f6-ceb8-429f-af05-778baf7aaf06"
   },
   "outputs": [],
   "source": [
    "#retrieving the evaluation questions\n",
    "gpt_context = ServiceContext.from_defaults(\n",
    "    llm=OpenAI(model=\"gpt-4\", temperature=0), context_window=2048\n",
    ")\n",
    "index = VectorStoreIndex.from_documents(docs, service_context=gpt_context)\n",
    "query_engine = index.as_query_engine(similarity_top_k=2)"
   ]
  },
  {
   "cell_type": "code",
   "execution_count": 255,
   "id": "505a6c74-16a8-4247-b233-8921d2784bd7",
   "metadata": {
    "id": "505a6c74-16a8-4247-b233-8921d2784bd7"
   },
   "outputs": [],
   "source": [
    "#evaluating the gpt-4 model performance based on the evaluation questions\n",
    "contexts = []\n",
    "answers = []\n",
    "\n",
    "for question in questions:\n",
    "    response = query_engine.query(question)\n",
    "    contexts.append([x.node.get_content() for x in response.source_nodes])\n",
    "    answers.append(str(response))"
   ]
  },
  {
   "cell_type": "code",
   "execution_count": 256,
   "id": "9118d09e-b794-4a62-992e-2a73a4b4e2ea",
   "metadata": {
    "colab": {
     "referenced_widgets": [
      "e0333c5b97034df0ae4a68623b983fce"
     ]
    },
    "id": "9118d09e-b794-4a62-992e-2a73a4b4e2ea",
    "outputId": "03cea51e-87b8-48a0-9613-d73a6cb27e29"
   },
   "outputs": [
    {
     "data": {
      "application/vnd.jupyter.widget-view+json": {
       "model_id": "80758f9a3b734f5ba0ae860785e5ce7a",
       "version_major": 2,
       "version_minor": 0
      },
      "text/plain": [
       "Evaluating:   0%|          | 0/20 [00:00<?, ?it/s]"
      ]
     },
     "metadata": {},
     "output_type": "display_data"
    },
    {
     "name": "stdout",
     "output_type": "stream",
     "text": [
      "{'answer_relevancy': 0.8014, 'faithfulness': 0.2857}\n"
     ]
    }
   ],
   "source": [
    "#generating and storing the answers to the evaluation questions using the gpt-4 model.\n",
    "ds = Dataset.from_dict(\n",
    "    {\n",
    "        \"question\": questions,\n",
    "        \"answer\": answers,\n",
    "        \"contexts\": contexts,\n",
    "    }\n",
    ")\n",
    "\n",
    "result = evaluate(ds,[answer_relevancy, faithfulness])\n",
    "print(result)"
   ]
  },
  {
   "cell_type": "code",
   "execution_count": 257,
   "id": "c2fc4433-ebec-4577-be3f-c4b5e8fe2cd3",
   "metadata": {},
   "outputs": [
    {
     "name": "stdout",
     "output_type": "stream",
     "text": [
      "You're missing green and white/tan. Add green apples and bananas to your cart. You could try making a fruit salad with pomegranates, oranges, blueberries, green apples, and bananas.\n"
     ]
    }
   ],
   "source": [
    "#printing out the answer by gpt-4 based on question 2\n",
    "query_engine = index.as_query_engine(service_context=gpt_context)\n",
    "response_4 = query_engine.query(questions[2])\n",
    "\n",
    "print(response_4)"
   ]
  },
  {
   "cell_type": "markdown",
   "id": "3d5af8a8-0db8-4aef-802e-d2011b1bf91d",
   "metadata": {
    "id": "3d5af8a8-0db8-4aef-802e-d2011b1bf91d"
   },
   "source": [
    "<h3>Evaluation with GPT-4-1106 </h3>\n",
    "<ul><li>evaluation questions were created in relation to the shopping cart context listed below</li>\n",
    "\n",
    "\n",
    "<li>Prompt: give me a list of questions that are similar to the following question and make use of the items in the attached file: i have an apple, a broccoli, a banana in my cart. tell me if this meets the 5-colour diet and if not what is missing in the 5 colour diet and what suggested recipe that can incorporate the items.</li></ul>"
   ]
  },
  {
   "cell_type": "code",
   "execution_count": 259,
   "id": "20484c9a-eeb0-4c44-99d7-1f5b25c0649d",
   "metadata": {
    "id": "20484c9a-eeb0-4c44-99d7-1f5b25c0649d"
   },
   "outputs": [],
   "source": [
    "#retrieving the evaluation questions\n",
    "gpt_context = ServiceContext.from_defaults(\n",
    "    llm=OpenAI(model=\"gpt-4-1106-preview\", temperature=0), context_window=2048\n",
    ")\n",
    "index = VectorStoreIndex.from_documents(docs, service_context=gpt_context)\n",
    "query_engine = index.as_query_engine(similarity_top_k=2)"
   ]
  },
  {
   "cell_type": "code",
   "execution_count": 260,
   "id": "173b3a81-3d83-428c-b749-a6da69041247",
   "metadata": {
    "id": "173b3a81-3d83-428c-b749-a6da69041247"
   },
   "outputs": [],
   "source": [
    "#evaluating the gpt-4-1106 model performance based on the evaluation questions\n",
    "contexts = []\n",
    "answers = []\n",
    "\n",
    "for question in questions:\n",
    "    response = query_engine.query(question)\n",
    "    contexts.append([x.node.get_content() for x in response.source_nodes])\n",
    "    answers.append(str(response))"
   ]
  },
  {
   "cell_type": "code",
   "execution_count": 261,
   "id": "92652ffc-51e5-4d38-8012-f0f83e353316",
   "metadata": {
    "colab": {
     "referenced_widgets": [
      "44b9ff1bdc8b46488d03506d7aac9b3b"
     ]
    },
    "id": "92652ffc-51e5-4d38-8012-f0f83e353316",
    "outputId": "9dec4333-d22d-4144-9df0-948a7f189a73"
   },
   "outputs": [
    {
     "data": {
      "application/vnd.jupyter.widget-view+json": {
       "model_id": "790f1b11a08947d3a341f5b514d47f3d",
       "version_major": 2,
       "version_minor": 0
      },
      "text/plain": [
       "Evaluating:   0%|          | 0/20 [00:00<?, ?it/s]"
      ]
     },
     "metadata": {},
     "output_type": "display_data"
    },
    {
     "name": "stdout",
     "output_type": "stream",
     "text": [
      "{'answer_relevancy': 0.8955, 'faithfulness': 0.3375}\n"
     ]
    }
   ],
   "source": [
    "#generating and storing the answers to the evaluation questions using the gpt-4-1106 model.\n",
    "ds = Dataset.from_dict(\n",
    "    {\n",
    "        \"question\": questions,\n",
    "        \"answer\": answers,\n",
    "        \"contexts\": contexts,\n",
    "    }\n",
    ")\n",
    "\n",
    "result = evaluate(ds,[answer_relevancy, faithfulness])\n",
    "print(result)"
   ]
  },
  {
   "cell_type": "code",
   "execution_count": 262,
   "id": "6eeff501-45cc-4656-be58-7d57afa53583",
   "metadata": {},
   "outputs": [
    {
     "name": "stdout",
     "output_type": "stream",
     "text": [
      "To achieve the 5-color diet, you should add something white/tan and green. Consider adding bananas and green apples. A recipe you can try is a fruit salad with pomegranates, oranges, blueberries, bananas, and green apples.\n"
     ]
    }
   ],
   "source": [
    "#printing out the answer by gpt-4-1106 based on question 2\n",
    "query_engine = index.as_query_engine(service_context=gpt_context)\n",
    "response_4_1106 = query_engine.query(questions[2])\n",
    "\n",
    "print(response_4_1106)"
   ]
  },
  {
   "cell_type": "markdown",
   "id": "3084ab23-3d0a-4a3d-87db-2fcb25d90a91",
   "metadata": {
    "id": "3084ab23-3d0a-4a3d-87db-2fcb25d90a91"
   },
   "source": [
    "<h3> Results </h3>\n",
    "For the evaluation, we will be using the following two metrics and outcomes comparison:\n",
    "\n",
    "- `answer_relevancy` - This measures how relevant is the generated answer to the prompt. If the generated answer is incomplete or contains redundant information the score will be low. This is quantified by working out the chance of an LLM generating the given question using the generated answer. Values range (0,1), higher the better.  \n",
    "- `faithfulness` - This measures the factual consistency of the generated answer against the given context. This is done using a multi step paradigm that includes creation of statements from the generated answer followed by verifying each of these statements against the context. The answer is scaled to (0,1) range. Higher the better."
   ]
  },
  {
   "cell_type": "code",
   "execution_count": 279,
   "id": "e4aaf097-90c4-4d71-9370-8e0c31234fd8",
   "metadata": {
    "id": "e4aaf097-90c4-4d71-9370-8e0c31234fd8",
    "outputId": "c358133d-3542-4933-dde1-3c3be9c5acae"
   },
   "outputs": [
    {
     "name": "stdout",
     "output_type": "stream",
     "text": [
      "           Model  Relevancy  Faithfulness  Ragas Score\n",
      "0  gpt-3.5-turbo     0.9026        0.3433      0.62295\n",
      "1          gpt-4     0.8014        0.2875      0.54445\n",
      "2     gpt-4-1106     0.8955        0.3375      0.61650\n"
     ]
    }
   ],
   "source": [
    "#to consolidate the results and present it in a table\n",
    "models = [\"gpt-3.5-turbo\", \"gpt-4\", \"gpt-4-1106\"]\n",
    "relevancy_scores = [0.9026, 0.8014, 0.8955]\n",
    "faithfulness_scores = [0.3433, 0.2875, 0.3375]\n",
    "\n",
    "ragas_scores = [(r + f) / 2 for r, f in zip(relevancy_scores, faithfulness_scores)]\n",
    "\n",
    "df = pd.DataFrame({\n",
    "    \"Model\": models,\n",
    "    \"Relevancy\": relevancy_scores,\n",
    "    \"Faithfulness\": faithfulness_scores,\n",
    "    \"Ragas Score\": ragas_scores\n",
    "})\n",
    "\n",
    "print(df)"
   ]
  },
  {
   "cell_type": "code",
   "execution_count": 265,
   "id": "17b8a13d-939a-4483-81ae-55a1558ef7f8",
   "metadata": {},
   "outputs": [
    {
     "name": "stdout",
     "output_type": "stream",
     "text": [
      "You should add bananas to achieve the 5-color diet. To try a recipe, consider making a mixed fruit smoothie with pomegranates, oranges, blueberries, and bananas.\n",
      "You're missing green and white/tan. Add green apples and bananas to your cart. You could try making a fruit salad with pomegranates, oranges, blueberries, green apples, and bananas.\n",
      "To achieve the 5-color diet, you should add something white/tan and green. Consider adding bananas and green apples. A recipe you can try is a fruit salad with pomegranates, oranges, blueberries, bananas, and green apples.\n"
     ]
    }
   ],
   "source": [
    "#printing all 3 responses to the same question by the 3 models for comparison\n",
    "print(response_35_turbo)\n",
    "print(response_4)\n",
    "print(response_4_1106)"
   ]
  },
  {
   "cell_type": "markdown",
   "id": "7564f42b-3ac1-47dd-b02f-ed309bee4020",
   "metadata": {},
   "source": [
    "<h3>Models evaluation - Chosen model is gpt-4-1106.</h3>\n",
    "<ul>\n",
    "    <li>All relevancy scores are pretty high with values above 0.8. Faithfulness is low but answers given by models are still mostly correct.</li>\n",
    "    <li>Faithfulness is low because recipes data is from the model's own dataset and not the one that was provided. It would have been ideal if answers regarding recipes could have been taken from the dataset rather than from the model's own dataset.</li>\n",
    "    <li>As such, we look to the responses to assess which model is the best for this purpose as this point in time.</li>\n",
    "    <li>The question we're using to assess the responses to is: My cart already has pomegranates, oranges, and blueberries. What else should I add to achieve the 5 colour diet, and what recipe can I try?</li>\r",
    "    <li>\n",
    "The first response from gpt-3.5-turbo is missing green colour. So it's down to the other 2 models and since in essence they are the same answers, I would pick gpt-4-1106 since it's more conversational </li>\n",
    "</ul>"
   ]
  }
 ],
 "metadata": {
  "colab": {
   "provenance": []
  },
  "kernelspec": {
   "display_name": "Python 3 (ipykernel)",
   "language": "python",
   "name": "python3"
  },
  "language_info": {
   "codemirror_mode": {
    "name": "ipython",
    "version": 3
   },
   "file_extension": ".py",
   "mimetype": "text/x-python",
   "name": "python",
   "nbconvert_exporter": "python",
   "pygments_lexer": "ipython3",
   "version": "3.11.7"
  }
 },
 "nbformat": 4,
 "nbformat_minor": 5
}
